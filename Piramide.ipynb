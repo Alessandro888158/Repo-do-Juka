{
 "cells": [
  {
   "cell_type": "code",
   "execution_count": 75,
   "id": "bda15e9c",
   "metadata": {},
   "outputs": [
    {
     "name": "stdout",
     "output_type": "stream",
     "text": [
      "   🏀\n",
      "  🏀🏀\n",
      " 🏀🏀🏀\n"
     ]
    }
   ],
   "source": [
    "n = 3\n",
    "\n",
    "\n",
    "\n",
    "for numero_linha  in range (n):\n",
    "    \n",
    "    caique =\"🏀\" \n",
    "    \n",
    "    \n",
    "\n",
    "    for j  in range (numero_linha):\n",
    "        \n",
    "        caique = caique +\"🏀\" \n",
    "    \n",
    "\n",
    "    for k in range (n - numero_linha) :\n",
    "        \n",
    "        caique = \" \" + caique\n",
    "    print (caique)\n",
    "\n",
    "\n",
    "\n",
    "\n",
    "\n",
    "\n"
   ]
  },
  {
   "cell_type": "code",
   "execution_count": null,
   "id": "b61855e3",
   "metadata": {},
   "outputs": [],
   "source": [
    "   °\n",
    "  °°  \n",
    " °°°"
   ]
  }
 ],
 "metadata": {
  "kernelspec": {
   "display_name": "Python 3",
   "language": "python",
   "name": "python3"
  },
  "language_info": {
   "codemirror_mode": {
    "name": "ipython",
    "version": 3
   },
   "file_extension": ".py",
   "mimetype": "text/x-python",
   "name": "python",
   "nbconvert_exporter": "python",
   "pygments_lexer": "ipython3",
   "version": "3.13.7"
  }
 },
 "nbformat": 4,
 "nbformat_minor": 5
}

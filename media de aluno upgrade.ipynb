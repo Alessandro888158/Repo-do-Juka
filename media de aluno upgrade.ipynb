{
 "cells": [
  {
   "cell_type": "code",
   "execution_count": 7,
   "id": "78e2342c",
   "metadata": {},
   "outputs": [
    {
     "name": "stdout",
     "output_type": "stream",
     "text": [
      "notas dos estudantes: [8.0, 4.5, 8.6, 7.2]\n",
      "media das notas:  7.08\n",
      "situacao do estudante: aprovado\n"
     ]
    }
   ],
   "source": [
    "\n",
    "\n",
    "\n",
    "\n",
    "notas = [8.0,4.5,8.6,7.2]\n",
    "\n",
    "def calcular_media(notas):\n",
    "    total = sum(notas)\n",
    "    media = total / len(notas)\n",
    "    return media\n",
    "\n",
    "arredondar_media  = lambda media :round(media, 2)\n",
    "\n",
    "media = calcular_media(notas)\n",
    "media_arredondada = arredondar_media(media)\n",
    "\n",
    "situacao = \"aprovado\" if media_arredondada >=7 else \"reprovado\"\n",
    "\n",
    "print(\"notas dos estudantes:\", notas)\n",
    "print(\"media das notas: \", media_arredondada)\n",
    "print(\"situacao do estudante:\",situacao)\n",
    "\n",
    "\n"
   ]
  }
 ],
 "metadata": {
  "kernelspec": {
   "display_name": "Python 3",
   "language": "python",
   "name": "python3"
  },
  "language_info": {
   "codemirror_mode": {
    "name": "ipython",
    "version": 3
   },
   "file_extension": ".py",
   "mimetype": "text/x-python",
   "name": "python",
   "nbconvert_exporter": "python",
   "pygments_lexer": "ipython3",
   "version": "3.13.7"
  }
 },
 "nbformat": 4,
 "nbformat_minor": 5
}

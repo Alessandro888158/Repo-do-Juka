{
 "cells": [
  {
   "cell_type": "code",
   "execution_count": 92,
   "id": "257fb682",
   "metadata": {},
   "outputs": [],
   "source": [
    "#Nome do aluno\n",
    "\n",
    "\n",
    "nome = input(\"bem vindo ao sistema de notas de alunos (a)!, digite o nome do aluno(a): \")\n"
   ]
  },
  {
   "cell_type": "code",
   "execution_count": 93,
   "id": "bef387f3",
   "metadata": {},
   "outputs": [
    {
     "name": "stdout",
     "output_type": "stream",
     "text": [
      "as notas do aluno, (a) são:  [2]\n",
      "as notas do aluno, (a) são:  [2, 3]\n",
      "as notas do aluno, (a) são:  [2, 3]\n",
      "a nota do Caique é: 2.5\n",
      "Caique foi reprovado\n"
     ]
    }
   ],
   "source": [
    "#notas\n",
    "lista = [  ]\n",
    "ultima_nota = 0\n",
    "\n",
    "\n",
    "\n",
    "while ultima_nota >=0:\n",
    "\n",
    "    nota = int(input(\"digite as notas, e digite -1 pra sair\"))\n",
    "\n",
    "    ultima_nota = nota\n",
    "\n",
    "    if nota >-1:\n",
    "\n",
    "        (lista.append(nota))\n",
    "\n",
    "    \n",
    "\n",
    "\n",
    "    print(\"as notas do aluno, (a) são: \", lista)\n",
    "\n",
    "soma1 = sum(lista)\n",
    "soma2 = len(lista)\n",
    "soma3 = soma1/soma2\n",
    "\n",
    "print(\"a nota do\",nome,\"é:\", soma3)\n",
    "\n",
    "if soma3 >=7:\n",
    "    print(nome, \"foi aprovado\" )\n",
    "\n",
    "else:\n",
    "    print(nome, \"foi reprovado\")\n"
   ]
  },
  {
   "cell_type": "code",
   "execution_count": null,
   "id": "e315ad3f",
   "metadata": {},
   "outputs": [],
   "source": []
  },
  {
   "cell_type": "code",
   "execution_count": null,
   "id": "bf0448d4",
   "metadata": {},
   "outputs": [],
   "source": []
  }
 ],
 "metadata": {
  "kernelspec": {
   "display_name": "Python 3",
   "language": "python",
   "name": "python3"
  },
  "language_info": {
   "codemirror_mode": {
    "name": "ipython",
    "version": 3
   },
   "file_extension": ".py",
   "mimetype": "text/x-python",
   "name": "python",
   "nbconvert_exporter": "python",
   "pygments_lexer": "ipython3",
   "version": "3.13.7"
  }
 },
 "nbformat": 4,
 "nbformat_minor": 5
}

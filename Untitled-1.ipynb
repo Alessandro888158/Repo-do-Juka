{
 "cells": [
  {
   "cell_type": "code",
   "execution_count": 49,
   "id": "3f8c0a0a",
   "metadata": {},
   "outputs": [],
   "source": [
    "Nota1 = int (input (\"Digite o valor da nota 1:\"))\n",
    "Nota2 = int ( input (\"Digite o valor da nota 2:\"))\n",
    "Nota3 = int (  input (\"Digite o valor da nota 3:\"))\n",
    "Nota4 = int ( input (\"Digite o valor da nota 4:\"))\n",
    "\n"
   ]
  },
  {
   "cell_type": "code",
   "execution_count": 50,
   "id": "6d668573",
   "metadata": {},
   "outputs": [
    {
     "name": "stdout",
     "output_type": "stream",
     "text": [
      "valor da nota 5 \n",
      "valor da nota 7 \n",
      "valor da nota 2 \n",
      "valor da nota 4\n"
     ]
    }
   ],
   "source": [
    "print (\"valor da nota\", Nota1,\"\\nvalor da nota\",Nota2, \"\\nvalor da nota\",Nota3,\"\\nvalor da nota\",Nota4)\n"
   ]
  },
  {
   "cell_type": "code",
   "execution_count": 51,
   "id": "08537a47",
   "metadata": {},
   "outputs": [
    {
     "name": "stdout",
     "output_type": "stream",
     "text": [
      "a nota do Aluno foi : 4.5\n"
     ]
    }
   ],
   "source": [
    "soma = (Nota1 + Nota2 + Nota3 + Nota4) /4\n",
    "print(\"a nota do Aluno foi :\" ,soma)\n",
    "\n"
   ]
  }
 ],
 "metadata": {
  "kernelspec": {
   "display_name": "Python 3",
   "language": "python",
   "name": "python3"
  },
  "language_info": {
   "codemirror_mode": {
    "name": "ipython",
    "version": 3
   },
   "file_extension": ".py",
   "mimetype": "text/x-python",
   "name": "python",
   "nbconvert_exporter": "python",
   "pygments_lexer": "ipython3",
   "version": "3.13.7"
  }
 },
 "nbformat": 4,
 "nbformat_minor": 5
}

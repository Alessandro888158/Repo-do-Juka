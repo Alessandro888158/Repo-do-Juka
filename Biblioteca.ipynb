{
 "cells": [
  {
   "cell_type": "code",
   "execution_count": 33,
   "id": "abc47bc1",
   "metadata": {},
   "outputs": [
    {
     "name": "stdout",
     "output_type": "stream",
     "text": [
      "'turma da monica' de mauricio de souza Gênero: infantil  Disponíveis: 2\n"
     ]
    }
   ],
   "source": [
    "#Biblioteca de livros\n",
    "\n",
    "class livro:\n",
    "\n",
    "    \n",
    "\n",
    "\n",
    "    def __init__(self, titulo, autor, genero ,  quantidade):\n",
    "            self.titulo = titulo\n",
    "\n",
    "            self.autor = autor\n",
    "\n",
    "            self.genero = genero\n",
    "\n",
    "            self.quantidade = quantidade\n",
    "        \n",
    "    def __str__(self):\n",
    "          return f\"'{self.titulo}' de {self.autor} Gênero: {self.genero}  Disponíveis: {self.quantidade}\"\n",
    "    \n",
    "livro1 = livro(\"turma da monica\", \"mauricio de souza\", \"infantil\",2)\n",
    "\n",
    "livro2 = livro(\"lupin\", \"maurice leblanc ,\" , \"misterio\", 1)   \n",
    "\n",
    "livro3 = livro(\"dracula\", \"bram stoker\", \"terror\", 0)\n",
    "\n",
    "\n",
    "print(livro1)        "
   ]
  },
  {
   "cell_type": "code",
   "execution_count": 34,
   "id": "40703142",
   "metadata": {},
   "outputs": [],
   "source": [
    "biblioteca = []\n",
    "\n",
    "biblioteca.append(livro1)\n",
    "biblioteca.append(livro2)\n",
    "biblioteca.append(livro3)\n",
    "\n",
    "def cadastrar_livro(titulo, autor, genero, quantidade):\n",
    "\n",
    "    novo_livro = livro(titulo, autor, genero, quantidade)\n",
    "\n",
    "    biblioteca.append(novo_livro)\n",
    "\n",
    "\n",
    "\n",
    "    print(\"Livro '{titulo} 'cadastrado com sucesso!\")"
   ]
  },
  {
   "cell_type": "code",
   "execution_count": 35,
   "id": "bc7c9d69",
   "metadata": {},
   "outputs": [],
   "source": [
    "def listar_livros(): \n",
    "\n",
    "    if not biblioteca:\n",
    "\n",
    "        print(\"Nenhum livro cadastrado.\")\n",
    "\n",
    "    else:\n",
    "\n",
    "        print(\"\\nLista de Livros na Biblioteca:\")\n",
    "\n",
    "        for i, livro in enumerate(biblioteca, start=1):\n",
    "            \n",
    "            print(f\"{i}. {livro}\")"
   ]
  },
  {
   "cell_type": "code",
   "execution_count": 36,
   "id": "9ea2ea33",
   "metadata": {},
   "outputs": [],
   "source": [
    "def buscar_livro(titulo):\n",
    "\n",
    "    for livro in biblioteca:\n",
    "\n",
    "        if livro.titulo.lower() == titulo.lower():\n",
    "\n",
    "            return livro\n",
    "        \n",
    "    return None"
   ]
  },
  {
   "cell_type": "code",
   "execution_count": 37,
   "id": "f9ea9638",
   "metadata": {},
   "outputs": [],
   "source": [
    "#sistema \n",
    "\n",
    "\n",
    "def menu():\n",
    "\n",
    "    while True :\n",
    "        print(\"bem vindo a biblioteca alessandro !!!\")\n",
    "        print(\"digite 1 para cadastrar um livro\")\n",
    "        print(\"digite 2 para listar os livros\")\n",
    "        print(\"digite 3 para buscar um livro\")\n",
    "        print(\"digite 4 para sair \")\n",
    "\n",
    "    \n",
    "        opcao = input(\"escolha uma opcao: \")\n",
    "        if opcao == \"1\":\n",
    "            titulo = input(\"Título: \")\n",
    "            autor = input(\"Autor: \")\n",
    "            genero = input(\"Gênero: \")\n",
    "            quantidade = int(input(\"Quantidade: \"))\n",
    "            cadastrar_livro(titulo, autor, genero, quantidade)\n",
    "\n",
    "        elif opcao ==\"2\":\n",
    "            listar_livros()\n",
    "\n",
    "        elif opcao ==\"3\":\n",
    "            titulo = input(\"digite o livro que deseja buscar:\")\n",
    "\n",
    "            livro = buscar_livro(titulo)\n",
    "            if livro:\n",
    "                print(f\"\\n encontrado: {livro}\")\n",
    "            else:\n",
    "                print(\"\\n livro nao encontrado.\")\n",
    "        elif opcao ==\"4\":\n",
    "            print(\"saindo do sistema...\")\n",
    "            break\n",
    "        else:\n",
    "            print(\"opção invalida.\")\n",
    "                \n",
    "\n",
    "            \n",
    "\n",
    "\n"
   ]
  },
  {
   "cell_type": "code",
   "execution_count": 38,
   "id": "f9bf63cc",
   "metadata": {},
   "outputs": [
    {
     "name": "stdout",
     "output_type": "stream",
     "text": [
      "bem vindo a biblioteca alessandro !!!\n",
      "digite 1 para cadastrar um livro\n",
      "digite 2 para listar os livros\n",
      "digite 3 para buscar um livro\n",
      "digite 4 para sair \n",
      "saindo do sistema...\n"
     ]
    }
   ],
   "source": [
    "menu()"
   ]
  },
  {
   "cell_type": "code",
   "execution_count": 39,
   "id": "80b13194",
   "metadata": {},
   "outputs": [],
   "source": [
    "import matplotlib.pyplot as plt"
   ]
  },
  {
   "cell_type": "code",
   "execution_count": 41,
   "id": "905e5210",
   "metadata": {},
   "outputs": [
    {
     "data": {
      "text/plain": [
       "<BarContainer object of 3 artists>"
      ]
     },
     "execution_count": 41,
     "metadata": {},
     "output_type": "execute_result"
    },
    {
     "data": {
      "image/png": "[encoded data removed]",
      "text/plain": [
       "<Figure size 200x200 with 1 Axes>"
      ]
     },
     "metadata": {},
     "output_type": "display_data"
    },
    {
     "data": {
      "image/png": "[encoded data removed]",
      "text/plain": [
       "<Figure size 200x200 with 1 Axes>"
      ]
     },
     "metadata": {},
     "output_type": "display_data"
    }
   ],
   "source": [
    "\n",
    "\n",
    "plt.style.use('_mpl-gallery')\n",
    "\n",
    "plt.title(\"livros por genero \")\n",
    "plt.xlabel(\"Eixo X\")\n",
    "plt.ylabel(\"Eixo Y\")\n",
    "\n",
    "generos = []\n",
    "quantidades = []\n",
    "\n",
    "for livro in biblioteca:\n",
    "    if livro.genero not in generos:\n",
    "        generos.append(livro.genero)\n",
    "\n",
    "    posicao = generos.index(livro.genero)\n",
    "\n",
    "    \n",
    "    \n",
    "    if len(quantidades) >posicao:\n",
    "\n",
    "        quantidades [posicao] = livro.quantidade + quantidades[posicao]\n",
    "\n",
    "    else:\n",
    "        quantidades.append(livro.quantidade)\n",
    "         \n",
    "\n",
    "\n",
    "\n",
    "\n",
    "fig, ax = plt.subplots()\n",
    "\n",
    "\n",
    "    \n",
    "\n",
    "\n",
    "ax.bar(generos, quantidades, width=0.2)\n",
    "\n"
   ]
  }
 ],
 "metadata": {
  "kernelspec": {
   "display_name": "Python 3",
   "language": "python",
   "name": "python3"
  },
  "language_info": {
   "codemirror_mode": {
    "name": "ipython",
    "version": 3
   },
   "file_extension": ".py",
   "mimetype": "text/x-python",
   "name": "python",
   "nbconvert_exporter": "python",
   "pygments_lexer": "ipython3",
   "version": "3.13.7"
  }
 },
 "nbformat": 4,
 "nbformat_minor": 5
}

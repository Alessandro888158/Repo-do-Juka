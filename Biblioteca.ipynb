{
 "cells": [
  {
   "cell_type": "code",
   "execution_count": 41,
   "id": "abc47bc1",
   "metadata": {},
   "outputs": [],
   "source": [
    "#Biblioteca de livros\n",
    "\n",
    "class livro:\n",
    "\n",
    "    \n",
    "\n",
    "\n",
    "    def __init__(self, titulo, autor, genero ,  quantidade):\n",
    "            self.titulo = titulo\n",
    "\n",
    "            self.autor = autor\n",
    "\n",
    "            self.genero = genero\n",
    "\n",
    "            self.quantidade = quantidade\n",
    "        \n",
    "    def __str__(self):\n",
    "          return f\"'{self.titulo}' de {self.autor} Gênero: {self.genero}  Disponíveis: {self.quantidade}\"\n",
    "    \n",
    "    livro1 = livro(\"turma da monica\", \"mauricio de souza\", \"*infantil*\",2)\n",
    "\n",
    "    livro2 = livro(\"lupin\", \"maurice leblanc ,\" , \"misterio\", 1)   \n",
    "\n",
    "    livro3 = livro(\"dracula\", \"bram stoker\", \"terror\", 0)\n",
    "    \n",
    "\n",
    "        "
   ]
  },
  {
   "cell_type": "code",
   "execution_count": 49,
   "id": "40703142",
   "metadata": {},
   "outputs": [],
   "source": [
    "def cadastrar_livro(titulo, autor, genero, quantidade):\n",
    "\n",
    "    novo_livro = Livro(titulo, autor, genero, quantidade)\n",
    "\n",
    "    biblioteca.append = (novo_livro)\n",
    "\n",
    "    print(\"Livro '{titulo} 'cadastrado com sucesso!\")"
   ]
  },
  {
   "cell_type": "code",
   "execution_count": 43,
   "id": "bc7c9d69",
   "metadata": {},
   "outputs": [],
   "source": [
    "def listar_livros():\n",
    "\n",
    "    if not biblioteca:\n",
    "\n",
    "        print(\"Nenhum livro cadastrado.\")\n",
    "\n",
    "    else:\n",
    "\n",
    "        print(\"\\nLista de Livros na Biblioteca:\")\n",
    "\n",
    "        for i, livro in enumerate(biblioteca, start=1):\n",
    "            \n",
    "            print(f\"{i}. {livro}\")"
   ]
  },
  {
   "cell_type": "code",
   "execution_count": 44,
   "id": "9ea2ea33",
   "metadata": {},
   "outputs": [],
   "source": [
    "def buscar_livro(titulo):\n",
    "\n",
    "    for livro in biblioteca:\n",
    "\n",
    "        if livro.titulo.lower() == titulo.lower():\n",
    "\n",
    "            return livro\n",
    "        \n",
    "    return None"
   ]
  }
 ],
 "metadata": {
  "kernelspec": {
   "display_name": "Python 3",
   "language": "python",
   "name": "python3"
  },
  "language_info": {
   "codemirror_mode": {
    "name": "ipython",
    "version": 3
   },
   "file_extension": ".py",
   "mimetype": "text/x-python",
   "name": "python",
   "nbconvert_exporter": "python",
   "pygments_lexer": "ipython3",
   "version": "3.13.7"
  }
 },
 "nbformat": 4,
 "nbformat_minor": 5
}

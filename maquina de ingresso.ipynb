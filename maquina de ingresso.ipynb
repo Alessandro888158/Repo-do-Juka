{
 "cells": [
  {
   "cell_type": "code",
   "execution_count": null,
   "id": "71facf43",
   "metadata": {},
   "outputs": [
    {
     "ename": "IndentationError",
     "evalue": "unexpected indent (197130855.py, line 9)",
     "output_type": "error",
     "traceback": [
      "  \u001b[36mCell\u001b[39m\u001b[36m \u001b[39m\u001b[32mIn[72]\u001b[39m\u001b[32m, line 9\u001b[39m\n\u001b[31m    \u001b[39m\u001b[31mif idade =10\u001b[39m\n    ^\n\u001b[31mIndentationError\u001b[39m\u001b[31m:\u001b[39m unexpected indent\n"
     ]
    }
   ],
   "source": [
    "#bem vindo a maquina automatica de ingressos!!\n",
    "\n",
    "nome =input(\"digite seu nome\" )\n",
    "\n",
    "if nome !=\"\":\n",
    "    print (\"seja bem vindo!\",nome)\n",
    "    print(\"agora,digite sua idade: \") \n",
    "    \n",
    "    idade = int(input(\"agora digite sua idade:\"))\n",
    "        if idade =10\n",
    "            print(\"sua idade é:\"idade):\n",
    "            \n",
    "        \n",
    "        \n",
    "\n",
    "\n",
    "        \n"
   ]
  }
 ],
 "metadata": {
  "kernelspec": {
   "display_name": "Python 3",
   "language": "python",
   "name": "python3"
  },
  "language_info": {
   "codemirror_mode": {
    "name": "ipython",
    "version": 3
   },
   "file_extension": ".py",
   "mimetype": "text/x-python",
   "name": "python",
   "nbconvert_exporter": "python",
   "pygments_lexer": "ipython3",
   "version": "3.13.7"
  }
 },
 "nbformat": 4,
 "nbformat_minor": 5
}

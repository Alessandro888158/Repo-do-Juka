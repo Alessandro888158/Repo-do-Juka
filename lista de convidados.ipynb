{
 "cells": [
  {
   "cell_type": "code",
   "execution_count": 20,
   "id": "3b9e471c",
   "metadata": {},
   "outputs": [
    {
     "name": "stdout",
     "output_type": "stream",
     "text": [
      "convidados que ainda nao confirmaram:\n",
      "leo boleli\n",
      "deivid\n",
      "gian\n",
      "enviando lembrete a convidados que ainda nao confirmaram...\n"
     ]
    }
   ],
   "source": [
    "#tupla de convidados\n",
    "\n",
    "Convidados = (\"juka\",\"caique\", \"leo boleli\", \"deivid\", \"gian\")\n",
    "\n",
    "confirmados = (\"juka\",\"caique\")\n",
    "\n",
    "nao_confirmados = [convidado for convidado in Convidados if convidado not in confirmados]\n",
    "\n",
    "print(\"convidados que ainda nao confirmaram:\")\n",
    "\n",
    "for pessoa in nao_confirmados:\n",
    "\n",
    "    print(pessoa)\n",
    "\n",
    "print(\"enviando lembrete a convidados que ainda nao confirmaram...\")\n"
   ]
  }
 ],
 "metadata": {
  "kernelspec": {
   "display_name": "Python 3",
   "language": "python",
   "name": "python3"
  },
  "language_info": {
   "codemirror_mode": {
    "name": "ipython",
    "version": 3
   },
   "file_extension": ".py",
   "mimetype": "text/x-python",
   "name": "python",
   "nbconvert_exporter": "python",
   "pygments_lexer": "ipython3",
   "version": "3.13.7"
  }
 },
 "nbformat": 4,
 "nbformat_minor": 5
}
